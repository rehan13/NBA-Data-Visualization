import altair as alt
import pandas as pd
from altair import datum


#Load in data
url = 'https://github.com/asmdrk/eda/blob/main/NBA.csv?raw=true'
nba = pd.read_csv(url).drop_duplicates()

include = ["name", "positions", "age", "team", "made_three_point_field_goals", "attempted_three_point_field_goals", 
           "made_free_throws", "attempted_free_throws", "offensive_rebounds", "defensive_rebounds", "assists", "steals",
           "blocks", "turnovers", "personal_fouls", "points", "Year", "FG%", "games_played"]

nba = nba[include]
nba.head()


nba.info()


nba.describe()


alt.data_transformers.disable_max_rows()

box_plot = alt.Chart(nba).mark_boxplot().encode(
    alt.X('positions:N', title='Position'),
    alt.Y('age:Q', title='Age'),
    alt.Tooltip(['name:N', 'age:Q'])
).properties(
    title='Distribution of age of NBA players by position',
    width=400,
    height=300
)

# display the chart
box_plot


# Define a function to map teams to conferences
def assign_conference(team):
    if team in ['LOS ANGELES LAKERS', 'LA CLIPPERS', 'PHOENIX SUNS', 'DENVER NUGGETS', 'UTAH JAZZ', 'DALLAS MAVERICKS', 'PORTLAND TRAIL BLAZERS', 'GOLDEN STATE WARRIORS', 'MEMPHIS GRIZZLIES', 'SAN ANTONIO SPURS', 'NEW ORLEANS PELICANS', 'HOUSTON ROCKETS', 'SACRAMENTO KINGS', 'MINNESOTA TIMBERWOLVES', 'OKLAHOMA CITY THUNDER']:
        return 'WC'
    elif team in ['PHILADELPHIA 76ERS', 'BROOKLYN NETS', 'MILWAUKEE BUCKS', 'NEW YORK KNICKS', 'ATLANTA HAWKS', 'MIAMI HEAT', 'BOSTON CELTICS', 'CHARLOTTE HORNETS', 'INDIANA PACERS', 'WASHINGTON WIZARDS', 'CHICAGO BULLS', 'ORLANDO MAGIC', 'TORONTO RAPTORS', 'CLEVELAND CAVALIERS', 'DETROIT PISTONS']:
        return 'EC'
    else:
        return 'Unknown'

# Apply the function to the 'team' column to create the 'conferences' column
nba['conferences'] = nba['team'].apply(assign_conference)


# Group the dataset by team and sum up the Total 3PM column
top_teams = nba.groupby(['team', 'conferences'])['made_three_point_field_goals'].sum()

# Sort the resulting dataframe in descending order and select the top 10 teams
top_10_teams = top_teams.sort_values(ascending=False).head(10).reset_index()


top_5_teams_EC = top_10_teams[top_10_teams['conferences'] == 'EC']
top_5_teams_WC = top_10_teams[top_10_teams['conferences'] == 'WC']

# Create a bar chart using altair
click = alt.selection_multi(fields=['team'], bind = 'legend')

bars_1 = alt.Chart(top_5_teams_EC).mark_bar().encode(
    x='made_three_point_field_goals:Q',
    y=alt.Y('team:N', sort='-x'),
    color = alt.Color('conferences:N'),
    tooltip=['team','made_three_point_field_goals'],
)

bars_1 = alt.Chart(top_5_teams_EC).mark_bar(color = "grey").encode(
    x=alt.Y('made_three_point_field_goals:Q', scale= alt.Scale(domain = [16000,22000])),
    y=alt.Y('team:N', sort='-x'),
    tooltip=['team','made_three_point_field_goals'],
)

bars_2 = alt.Chart(top_5_teams_WC).mark_bar(color = "grey").encode(
    x=alt.Y('made_three_point_field_goals:Q', scale= alt.Scale(domain = [16000,22000])),
    y=alt.Y('team:N', sort='-x'),
    tooltip=['team','made_three_point_field_goals'],
)

# Add interactivity

selection = alt.selection_multi(fields=['team'])
bars_1 = bars_1.add_selection(selection).encode(
    opacity=alt.condition(selection, alt.value(1), alt.value(0.1))
).properties(
    title='Top teams for 3PM in Eastern Conference',
    width=500,
    height=300
)

bars_2 = bars_2.add_selection(selection).encode(
    opacity=alt.condition(selection, alt.value(1), alt.value(0.1))
).properties(
    title='Top teams for 3PM in Western Conference',
    width=500,
    height=300
)

bars = alt.hconcat(bars_1, bars_2)

bars


nba


top_teams = nba.groupby(['team'])['made_three_point_field_goals'].sum().sort_values(ascending=False)[:10].index.tolist()


# Filter data for top 10 teams
teamwise_3pa = nba[nba['team'].isin(top_teams)].groupby(['team', 'Year', 'conferences'])['attempted_three_point_field_goals', 'made_three_point_field_goals'].sum().reset_index()
teamwise_3pa['Success Rate'] = (teamwise_3pa['made_three_point_field_goals']/teamwise_3pa['attempted_three_point_field_goals'])*100
# Create an Altair chart

line = alt.Chart(teamwise_3pa).mark_line(point = True).encode(
    x='Year:O',
    y='attempted_three_point_field_goals:Q',
    color=alt.Color('team:N', scale=alt.Scale(scheme='category10')),
    tooltip=['team','attempted_three_point_field_goals', 'made_three_point_field_goals' , 'Success Rate'],
).properties(
    title='Teamwise 3PA trend',
    width=1150,
    height=500
)

line = line.add_selection(selection).encode(
    opacity=alt.condition(selection, alt.value(1), alt.value(0.1))
)


line 



alt.vconcat(line, bars) 



nba["assists_per_game"] = nba["assists"] / nba["games_played"]

nba["assists_turnover_ratio"] = nba["assists"] / nba["turnovers"]


top_10_assists_per_year = nba.groupby('Year').apply(lambda x: x.nlargest(10, 'assists')).reset_index(drop=True).drop_duplicates(subset =["name", "Year", "assists_per_game"])

top_10_assists_per_year


top_10_apg = top_10_assists_per_year.nlargest(10, 'assists_per_game')

top_10_apg


brush = alt.selection_interval(encodings=['x'])

assists_pg = alt.Chart(top_10_assists_per_year).mark_bar(opacity = 0.8).encode(
alt.Y("max(assists_per_game):Q", stack =None),
alt.X("name", sort = "y"),
alt.Color('positions')).properties(
    width=1000
)

assists_pg


years = nba["Year"].unique()
year_selection = alt.selection_single(
    name='Select',
    fields=['Year'],
    init={'Year': 2001},
    bind={'Year': alt.binding_range(min=2001, max=2022, step=1)}
)

assist_turnover = alt.Chart(top_10_assists_per_year).mark_point().add_selection(
    year_selection
).encode(
alt.Y("assists"),
alt.X("turnovers"),
alt.Color("positions:N"),
opacity=alt.condition(year_selection, alt.value(0.95), alt.value(0.05)),
size= "points",
tooltip = ["name", "team"])
assist_turnover


assists_pg = assists_pg.transform_filter(year_selection)

alt.vconcat(assist_turnover,assists_pg)






