import altair as alt
import pandas as pd
from altair import datum


#Load in data
url = 'https://github.com/asmdrk/eda/blob/main/NBA.csv?raw=true'
nba = pd.read_csv(url).drop_duplicates()
nba.head()


include = ["name", "positions", "age", "team", "made_three_point_field_goals", "attempted_three_point_field_goals", 
           "made_free_throws", "attempted_free_throws", "offensive_rebounds", "defensive_rebounds", "assists", "steals",
           "blocks", "turnovers", "personal_fouls", "points", "Year", "FG%"]

nba = nba[include]


nba.info()


nba.describe()


alt.data_transformers.disable_max_rows()

box_plot = alt.Chart(nba).mark_boxplot().encode(
    alt.X('positions:N', title='Position'),
    alt.Y('age:Q', title='Age'),
    alt.Tooltip(['name:N', 'age:Q'])
).properties(
    title='Distribution of age of NBA players by position',
    width=400,
    height=300
)

# display the chart
box_plot









# nba = nba.rename(columns={'made_three_point_field_goals': 'Total 3PM'})

# Group the dataset by team and sum up the Total 3PM column
top_teams = nba.groupby('team')['made_three_point_field_goals'].sum()

# Sort the resulting dataframe in descending order and select the top 10 teams
top_10_teams = top_teams.sort_values(ascending=False).head(10).reset_index()

# Create a bar chart using altair
click = alt.selection_multi(fields=['team'], bind = 'legend')

bars = alt.Chart(top_10_teams).mark_bar().encode(
    x='made_three_point_field_goals:Q',
    y=alt.Y('team:N', sort='-x'),
    color = alt.Color('team:N'),
    tooltip=['team','made_three_point_field_goals'],
)

# Add interactivity
selection = alt.selection_multi(fields=['team'])
bars = bars.add_selection(selection).encode(
    opacity=alt.condition(selection, alt.value(1), alt.value(0.1))
).properties(
    title='Top teams for 3PM',
    width=500,
    height=500
)
bars





top_teams = nba.groupby('team')['attempted_three_point_field_goals'].sum().sort_values(ascending=False)[:10].index.tolist()

# Filter data for top 15 teams
teamwise_3pa = nba[nba['team'].isin(top_teams)].groupby(['team', 'Year'])['attempted_three_point_field_goals'].sum().reset_index()

# Create an Altair chart

line = alt.Chart(teamwise_3pa).mark_line().encode(
    x='Year:O',
    y='attempted_three_point_field_goals:Q',
    color=alt.Color('team:N', scale=alt.Scale(scheme='category10')),
    opacity=alt.condition(click, alt.value(1), alt.value(0.1))
).properties(
    title='Teamwise 3PA trend',
    width=500,
    height=500
).add_selection(
    click
)

line


line = line.transform_filter(selection)

bars | line



# scatter
SG = nba[nba['positions'] == 'SHOOTING GUARD']
SG


# calculate the block-foul ratio
nba['block_foul_ratio'] = nba['blocks'] / nba['personal_fouls']

# create scatter plot
scatter_SG = alt.Chart(SG).mark_point(opacity = 0.5, size = 5).encode(
    x=alt.X('block_foul_ratio:Q', axis=alt.Axis(title='Block-Foul Ratio')),
    y=alt.Y('blocks:Q', axis=alt.Axis(title='Blocks Without Fouling')),
    tooltip=['name', 'team', 'positions', 'block_foul_ratio', 'blocks']
).properties(
    title='Players Good at Getting Blocks Without Fouling',
    width=700,
    height=700
)

scatter_SG







teamwise_3pa = df.groupby(['team', 'Year'])['attempted_three_point_field_goals'].sum().reset_index()

# Create an Altair chart
chart = alt.Chart(teamwise_3pa).mark_line().encode(
    x='Year:O',
    y='attempted_three_point_field_goals:Q',
    color='team:N'
).properties(
    title='Teamwise 3PA trend',
    width=700,
    height=700
)

chart


df = nba[['name', 'made_three_point_field_goals', 'Year']]

# Group the data by year and sort by made_three_point_field_goals
df_top = df.groupby('Year').apply(lambda x: x.nlargest(10, 'made_three_point_field_goals')).reset_index(drop=True)

# Create the Altair chart
chart = alt.Chart(df_top).mark_bar().encode(
    x=alt.X('Year:O', title='Season'),
    y=alt.Y('made_three_point_field_goals:Q', title='Made 3PM'),
    color=alt.Color('name:N'),
    tooltip=['name', 'made_three_point_field_goals']
).properties(
    title='Top 10 players with the Most Made 3PM per Season',
    width=700,
    height=700
)

chart



